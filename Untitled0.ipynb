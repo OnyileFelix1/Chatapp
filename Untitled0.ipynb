{
  "nbformat": 4,
  "nbformat_minor": 0,
  "metadata": {
    "colab": {
      "provenance": [],
      "authorship_tag": "ABX9TyPFlk+oOVMEd8fERSc7SPLh",
      "include_colab_link": true
    },
    "kernelspec": {
      "name": "python3",
      "display_name": "Python 3"
    },
    "language_info": {
      "name": "python"
    }
  },
  "cells": [
    {
      "cell_type": "markdown",
      "metadata": {
        "id": "view-in-github",
        "colab_type": "text"
      },
      "source": [
        "<a href=\"https://colab.research.google.com/github/OnyileFelix1/Chatapp/blob/main/Untitled0.ipynb\" target=\"_parent\"><img src=\"https://colab.research.google.com/assets/colab-badge.svg\" alt=\"Open In Colab\"/></a>"
      ]
    },
    {
      "cell_type": "code",
      "execution_count": null,
      "metadata": {
        "colab": {
          "base_uri": "https://localhost:8080/",
          "height": 383
        },
        "id": "rRQSZNWTq05y",
        "outputId": "f77b5bd4-ccef-4f40-f97b-c9c657d54037"
      },
      "outputs": [
        {
          "output_type": "error",
          "ename": "ModuleNotFoundError",
          "evalue": "ignored",
          "traceback": [
            "\u001b[0;31m---------------------------------------------------------------------------\u001b[0m",
            "\u001b[0;31mModuleNotFoundError\u001b[0m                       Traceback (most recent call last)",
            "\u001b[0;32m<ipython-input-9-b87c77c4b0ce>\u001b[0m in \u001b[0;36m<cell line: 2>\u001b[0;34m()\u001b[0m\n\u001b[1;32m      1\u001b[0m \u001b[0;32mimport\u001b[0m \u001b[0mnltk\u001b[0m\u001b[0;34m\u001b[0m\u001b[0;34m\u001b[0m\u001b[0m\n\u001b[0;32m----> 2\u001b[0;31m \u001b[0;32mimport\u001b[0m \u001b[0mpyttsx3\u001b[0m\u001b[0;34m\u001b[0m\u001b[0;34m\u001b[0m\u001b[0m\n\u001b[0m\u001b[1;32m      3\u001b[0m \u001b[0;32mfrom\u001b[0m \u001b[0mnltk\u001b[0m\u001b[0;34m.\u001b[0m\u001b[0mcorpus\u001b[0m \u001b[0;32mimport\u001b[0m \u001b[0mstopwords\u001b[0m\u001b[0;34m\u001b[0m\u001b[0;34m\u001b[0m\u001b[0m\n\u001b[1;32m      4\u001b[0m \u001b[0;32mfrom\u001b[0m \u001b[0mnltk\u001b[0m\u001b[0;34m.\u001b[0m\u001b[0mtokenize\u001b[0m \u001b[0;32mimport\u001b[0m \u001b[0mword_tokenize\u001b[0m\u001b[0;34m,\u001b[0m \u001b[0msent_tokenize\u001b[0m\u001b[0;34m\u001b[0m\u001b[0;34m\u001b[0m\u001b[0m\n\u001b[1;32m      5\u001b[0m \u001b[0;34m\u001b[0m\u001b[0m\n",
            "\u001b[0;31mModuleNotFoundError\u001b[0m: No module named 'pyttsx3'",
            "",
            "\u001b[0;31m---------------------------------------------------------------------------\u001b[0;32m\nNOTE: If your import is failing due to a missing package, you can\nmanually install dependencies using either !pip or !apt.\n\nTo view examples of installing some common dependencies, click the\n\"Open Examples\" button below.\n\u001b[0;31m---------------------------------------------------------------------------\u001b[0m\n"
          ],
          "errorDetails": {
            "actions": [
              {
                "action": "open_url",
                "actionText": "Open Examples",
                "url": "/notebooks/snippets/importing_libraries.ipynb"
              }
            ]
          }
        }
      ],
      "source": [
        "import nltk\n",
        "from nltk.corpus import stopwords\n",
        "from nltk.tokenize import word_tokenize, sent_tokenize\n",
        "import pyttsx3\n",
        "\n",
        "nltk.download(\"stopwords\")\n",
        "nltk.download(\"punkt\")\n",
        "\n",
        "def tokenize_text(text):\n",
        "    sentences = sent_tokenize(text)\n",
        "    words = [word.lower() for sentence in sentences for word in word_tokenize(sentence) if word.isalnum()]\n",
        "    return sentences, words\n",
        "\n",
        "def calculate_word_weights(words):\n",
        "    word_freq = nltk.FreqDist(words)\n",
        "    max_freq = max(word_freq.values())\n",
        "\n",
        "    word_weights = {word: freq / max_freq for word, freq in word_freq.items() if word not in stopwords.words(\"english\")}\n",
        "    return word_weights\n",
        "\n",
        "def calculate_sentence_weights(sentences, word_weights):\n",
        "    sentence_weights = {}\n",
        "\n",
        "    for i, sentence in enumerate(sentences):\n",
        "        weight = sum(word_weights[word] for word in word_tokenize(sentence.lower()) if word in word_weights)\n",
        "        sentence_weights[i] = weight\n",
        "\n",
        "    return sentence_weights\n",
        "\n",
        "def summarize_text(text, max_sentences=5):\n",
        "    sentences, words = tokenize_text(text)\n",
        "    word_weights = calculate_word_weights(words)\n",
        "    sentence_weights = calculate_sentence_weights(sentences, word_weights)\n",
        "\n",
        "    sorted_sentences = sorted(sentence_weights, key=sentence_weights.get, reverse=True)[:max_sentences]\n",
        "    summarized_text = \" \".join(sentences[i] for i in sorted(sorted_sentences))\n",
        "\n",
        "    return summarized_text\n",
        "\n",
        "def convert_to_audio(text):\n",
        "    engine = pyttsx3.init()\n",
        "    engine.save_to_file(text, 'summary.mp3')\n",
        "    engine.runAndWait()\n",
        "\n",
        "if __name__ == \"__main__\":\n",
        "    original_text = \"\"\"\n",
        "    \"\"\"\n",
        "\n",
        "    summary = summarize_text(original_text)\n",
        "    print(\"Summarized Text:\")\n",
        "    print(summary)\n",
        "\n",
        "    convert_to_audio(summary)\n"
      ]
    }
  ]
}