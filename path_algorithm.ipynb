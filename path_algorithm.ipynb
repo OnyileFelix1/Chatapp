{
  "nbformat": 4,
  "nbformat_minor": 0,
  "metadata": {
    "colab": {
      "provenance": [],
      "authorship_tag": "ABX9TyMuLTx4V7VRSWITWg3ufmbl",
      "include_colab_link": true
    },
    "kernelspec": {
      "name": "python3",
      "display_name": "Python 3"
    },
    "language_info": {
      "name": "python"
    }
  },
  "cells": [
    {
      "cell_type": "markdown",
      "metadata": {
        "id": "view-in-github",
        "colab_type": "text"
      },
      "source": [
        "<a href=\"https://colab.research.google.com/github/OnyileFelix1/Chatapp/blob/main/path_algorithm.ipynb\" target=\"_parent\"><img src=\"https://colab.research.google.com/assets/colab-badge.svg\" alt=\"Open In Colab\"/></a>"
      ]
    },
    {
      "cell_type": "code",
      "execution_count": 12,
      "metadata": {
        "id": "m3imHDu8YYHS"
      },
      "outputs": [],
      "source": [
        "#SEA 101#\n",
        "\n",
        "def bfs_shortest_path(graph, start_node, end_node):\n",
        "    visited = set()\n",
        "    queue = [[start_node]]\n",
        "\n",
        "    if start_node == end_node:\n",
        "        return [start_node]\n",
        "\n",
        "    while queue:\n",
        "        path = queue.pop(0)\n",
        "        node = path[-1]\n",
        "\n",
        "        if node not in visited:\n",
        "            neighbors = graph[node]\n",
        "            for neighbor in neighbors:\n",
        "                new_path = list(path)\n",
        "                new_path.append(neighbor)\n",
        "                queue.append(new_path)\n",
        "\n",
        "                if neighbor == end_node:\n",
        "                    return new_path\n",
        "\n",
        "            visited.add(node)\n",
        "\n",
        "def dfs_all_paths(graph, start_node, end_node):\n",
        "    def dfs_util(node, path, visited):\n",
        "        visited.add(node)\n",
        "        path.append(node)\n",
        "\n",
        "        if node == end_node:\n",
        "            all_paths.append(list(path))\n",
        "        else:\n",
        "            for neighbor in graph[node]:\n",
        "                if neighbor not in visited:\n",
        "                    dfs_util(neighbor, path, visited)\n",
        "\n",
        "        path.pop()\n",
        "        visited.remove(node)\n",
        "\n",
        "    visited = set()\n",
        "    all_paths = []\n",
        "    dfs_util(start_node, [], visited)\n",
        "\n",
        "    return all_paths\n",
        "\n",
        "def shortest_path(graph):\n",
        "  def all_paths(graph):\n",
        "\n",
        "    shortest_path = bfs_shortest_path(graph, 'A', 'G')\n",
        "    all_paths = dfs_all_paths(graph, 'A', 'G')\n",
        "\n",
        "    print(\"Shortest Path:\", shortest_path)\n",
        "    print(\"All Paths:\", all_paths)\n"
      ]
    }
  ]
}